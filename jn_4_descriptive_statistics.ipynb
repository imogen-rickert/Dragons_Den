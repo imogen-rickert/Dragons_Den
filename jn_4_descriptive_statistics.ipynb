{
 "cells": [
  {
   "cell_type": "markdown",
   "metadata": {},
   "source": [
    "### Libraries"
   ]
  },
  {
   "cell_type": "code",
   "execution_count": 1,
   "metadata": {},
   "outputs": [],
   "source": [
    "import pandas as pd\n",
    "import numpy as np\n",
    "import matplotlib.pyplot as plt"
   ]
  },
  {
   "cell_type": "markdown",
   "metadata": {},
   "source": [
    "### Import datasets"
   ]
  },
  {
   "cell_type": "code",
   "execution_count": 2,
   "metadata": {},
   "outputs": [],
   "source": [
    "shark_cleaned = pd.read_csv(\"shark_merged_clean.csv\")"
   ]
  },
  {
   "cell_type": "code",
   "execution_count": 3,
   "metadata": {
    "scrolled": true
   },
   "outputs": [
    {
     "data": {
      "text/html": [
       "<div>\n",
       "<style scoped>\n",
       "    .dataframe tbody tr th:only-of-type {\n",
       "        vertical-align: middle;\n",
       "    }\n",
       "\n",
       "    .dataframe tbody tr th {\n",
       "        vertical-align: top;\n",
       "    }\n",
       "\n",
       "    .dataframe thead th {\n",
       "        text-align: right;\n",
       "    }\n",
       "</style>\n",
       "<table border=\"1\" class=\"dataframe\">\n",
       "  <thead>\n",
       "    <tr style=\"text-align: right;\">\n",
       "      <th></th>\n",
       "      <th>company_or_product_name</th>\n",
       "      <th>description_of_product</th>\n",
       "      <th>deal_status</th>\n",
       "      <th>investing_dragon(s)</th>\n",
       "      <th>episode</th>\n",
       "      <th>category</th>\n",
       "      <th>entrepreneurs(s)</th>\n",
       "      <th>location</th>\n",
       "      <th>website</th>\n",
       "      <th>money_requested</th>\n",
       "      <th>stake_in_%_sold</th>\n",
       "      <th>valuation</th>\n",
       "      <th>season</th>\n",
       "      <th>shark1</th>\n",
       "      <th>shark2</th>\n",
       "      <th>shark3</th>\n",
       "      <th>shark4</th>\n",
       "      <th>shark5</th>\n",
       "    </tr>\n",
       "  </thead>\n",
       "  <tbody>\n",
       "    <tr>\n",
       "      <th>0</th>\n",
       "      <td>PullyPalz</td>\n",
       "      <td>a pulley system to keep two pacifiers availabl...</td>\n",
       "      <td>True</td>\n",
       "      <td>Lori Greiner</td>\n",
       "      <td>24</td>\n",
       "      <td>Baby and Child Care</td>\n",
       "      <td>Julie Thompson</td>\n",
       "      <td>GA</td>\n",
       "      <td>http://pullypalz.com</td>\n",
       "      <td>100000</td>\n",
       "      <td>20</td>\n",
       "      <td>500000</td>\n",
       "      <td>6</td>\n",
       "      <td>Lori Greiner</td>\n",
       "      <td>Robert Herjavec</td>\n",
       "      <td>Kevin O'Leary</td>\n",
       "      <td>Daymond John</td>\n",
       "      <td>Mark Cuban</td>\n",
       "    </tr>\n",
       "    <tr>\n",
       "      <th>1</th>\n",
       "      <td>BeeSweet Lemonade</td>\n",
       "      <td>honey-sweetened lemonade with flaxseed</td>\n",
       "      <td>True</td>\n",
       "      <td>Daymond John</td>\n",
       "      <td>23</td>\n",
       "      <td>Non-Alcoholic Beverages</td>\n",
       "      <td>Mikaila and Theo Ulmer</td>\n",
       "      <td>TX</td>\n",
       "      <td>http://beesweetlemonade.com</td>\n",
       "      <td>60000</td>\n",
       "      <td>10</td>\n",
       "      <td>600000</td>\n",
       "      <td>6</td>\n",
       "      <td>Lori Greiner</td>\n",
       "      <td>Robert Herjavec</td>\n",
       "      <td>Kevin O'Leary</td>\n",
       "      <td>Daymond John</td>\n",
       "      <td>Mark Cuban</td>\n",
       "    </tr>\n",
       "    <tr>\n",
       "      <th>2</th>\n",
       "      <td>Melni Connectors</td>\n",
       "      <td>a simpler connector for industrial electrical ...</td>\n",
       "      <td>True</td>\n",
       "      <td>Marc Cuban</td>\n",
       "      <td>25</td>\n",
       "      <td>Electronics</td>\n",
       "      <td>Byron Dunn, Mark Melni, and Armand Eckert</td>\n",
       "      <td>ID</td>\n",
       "      <td>http://www.melniconnectors.com</td>\n",
       "      <td>500000</td>\n",
       "      <td>5</td>\n",
       "      <td>10000000</td>\n",
       "      <td>6</td>\n",
       "      <td>Lori Greiner</td>\n",
       "      <td>Barbara Corcoran</td>\n",
       "      <td>Robert Herjavec</td>\n",
       "      <td>Kevin O'Leary</td>\n",
       "      <td>Mark Cuban</td>\n",
       "    </tr>\n",
       "    <tr>\n",
       "      <th>3</th>\n",
       "      <td>NeatCheeks</td>\n",
       "      <td>wipes flavored with stevia for cleaning childr...</td>\n",
       "      <td>True</td>\n",
       "      <td>Barbara Corcoran</td>\n",
       "      <td>25</td>\n",
       "      <td>Baby and Child Care</td>\n",
       "      <td>Danielle Stangler and Julia Rossi</td>\n",
       "      <td>CO</td>\n",
       "      <td>https://neatcheeks.com</td>\n",
       "      <td>150000</td>\n",
       "      <td>20</td>\n",
       "      <td>750000</td>\n",
       "      <td>6</td>\n",
       "      <td>Lori Greiner</td>\n",
       "      <td>Barbara Corcoran</td>\n",
       "      <td>Robert Herjavec</td>\n",
       "      <td>Kevin O'Leary</td>\n",
       "      <td>Mark Cuban</td>\n",
       "    </tr>\n",
       "    <tr>\n",
       "      <th>4</th>\n",
       "      <td>PittMoss</td>\n",
       "      <td>an alternative to peat moss manufactured from ...</td>\n",
       "      <td>True</td>\n",
       "      <td>Kevin O'Leary+Marc Cuban+Robert Herjavec</td>\n",
       "      <td>25</td>\n",
       "      <td>Gardening</td>\n",
       "      <td>Mont Handley</td>\n",
       "      <td>PA</td>\n",
       "      <td>http://pittmoss.com</td>\n",
       "      <td>600000</td>\n",
       "      <td>25</td>\n",
       "      <td>2400000</td>\n",
       "      <td>6</td>\n",
       "      <td>Lori Greiner</td>\n",
       "      <td>Barbara Corcoran</td>\n",
       "      <td>Robert Herjavec</td>\n",
       "      <td>Kevin O'Leary</td>\n",
       "      <td>Mark Cuban</td>\n",
       "    </tr>\n",
       "  </tbody>\n",
       "</table>\n",
       "</div>"
      ],
      "text/plain": [
       "  company_or_product_name                             description_of_product  \\\n",
       "0               PullyPalz  a pulley system to keep two pacifiers availabl...   \n",
       "1       BeeSweet Lemonade            honey-sweetened lemonade with flaxseed    \n",
       "2        Melni Connectors  a simpler connector for industrial electrical ...   \n",
       "3              NeatCheeks  wipes flavored with stevia for cleaning childr...   \n",
       "4                PittMoss  an alternative to peat moss manufactured from ...   \n",
       "\n",
       "   deal_status                       investing_dragon(s)  episode  \\\n",
       "0         True                              Lori Greiner       24   \n",
       "1         True                              Daymond John       23   \n",
       "2         True                                Marc Cuban       25   \n",
       "3         True                          Barbara Corcoran       25   \n",
       "4         True  Kevin O'Leary+Marc Cuban+Robert Herjavec       25   \n",
       "\n",
       "                  category                           entrepreneurs(s)  \\\n",
       "0      Baby and Child Care                             Julie Thompson   \n",
       "1  Non-Alcoholic Beverages                     Mikaila and Theo Ulmer   \n",
       "2              Electronics  Byron Dunn, Mark Melni, and Armand Eckert   \n",
       "3      Baby and Child Care          Danielle Stangler and Julia Rossi   \n",
       "4                Gardening                               Mont Handley   \n",
       "\n",
       "  location                         website  money_requested  stake_in_%_sold  \\\n",
       "0       GA            http://pullypalz.com           100000               20   \n",
       "1       TX     http://beesweetlemonade.com            60000               10   \n",
       "2       ID  http://www.melniconnectors.com           500000                5   \n",
       "3       CO          https://neatcheeks.com           150000               20   \n",
       "4       PA             http://pittmoss.com           600000               25   \n",
       "\n",
       "   valuation  season        shark1            shark2           shark3  \\\n",
       "0     500000       6  Lori Greiner   Robert Herjavec    Kevin O'Leary   \n",
       "1     600000       6  Lori Greiner   Robert Herjavec    Kevin O'Leary   \n",
       "2   10000000       6  Lori Greiner  Barbara Corcoran  Robert Herjavec   \n",
       "3     750000       6  Lori Greiner  Barbara Corcoran  Robert Herjavec   \n",
       "4    2400000       6  Lori Greiner  Barbara Corcoran  Robert Herjavec   \n",
       "\n",
       "          shark4      shark5  \n",
       "0   Daymond John  Mark Cuban  \n",
       "1   Daymond John  Mark Cuban  \n",
       "2  Kevin O'Leary  Mark Cuban  \n",
       "3  Kevin O'Leary  Mark Cuban  \n",
       "4  Kevin O'Leary  Mark Cuban  "
      ]
     },
     "execution_count": 3,
     "metadata": {},
     "output_type": "execute_result"
    }
   ],
   "source": [
    "shark_cleaned.head()"
   ]
  },
  {
   "cell_type": "code",
   "execution_count": 4,
   "metadata": {},
   "outputs": [],
   "source": [
    "dragons = pd.read_csv(\"Dragons_den_web_scrape_wikipedia.csv\")"
   ]
  },
  {
   "cell_type": "code",
   "execution_count": 5,
   "metadata": {},
   "outputs": [
    {
     "data": {
      "text/html": [
       "<div>\n",
       "<style scoped>\n",
       "    .dataframe tbody tr th:only-of-type {\n",
       "        vertical-align: middle;\n",
       "    }\n",
       "\n",
       "    .dataframe tbody tr th {\n",
       "        vertical-align: top;\n",
       "    }\n",
       "\n",
       "    .dataframe thead th {\n",
       "        text-align: right;\n",
       "    }\n",
       "</style>\n",
       "<table border=\"1\" class=\"dataframe\">\n",
       "  <thead>\n",
       "    <tr style=\"text-align: right;\">\n",
       "      <th></th>\n",
       "      <th>episode</th>\n",
       "      <th>first_aired</th>\n",
       "      <th>entrepreneur(s)</th>\n",
       "      <th>company_or_product_name</th>\n",
       "      <th>money_requested_converted_$</th>\n",
       "      <th>stake_in_%_sold</th>\n",
       "      <th>description_of_product</th>\n",
       "      <th>investing_dragon(s)</th>\n",
       "      <th>fate</th>\n",
       "      <th>season</th>\n",
       "      <th>valuation</th>\n",
       "    </tr>\n",
       "  </thead>\n",
       "  <tbody>\n",
       "    <tr>\n",
       "      <th>0</th>\n",
       "      <td>1</td>\n",
       "      <td>31 July 2011</td>\n",
       "      <td>Georgette Hewitt</td>\n",
       "      <td>The Present Club</td>\n",
       "      <td>79142</td>\n",
       "      <td>NaN</td>\n",
       "      <td>A website for buying gifts for children</td>\n",
       "      <td>Peter Jones and Theo Paphitis</td>\n",
       "      <td>active</td>\n",
       "      <td>9</td>\n",
       "      <td>NaN</td>\n",
       "    </tr>\n",
       "    <tr>\n",
       "      <th>1</th>\n",
       "      <td>1</td>\n",
       "      <td>31 July 2011</td>\n",
       "      <td>Chris Hopkins</td>\n",
       "      <td>Ploughcroft Solar</td>\n",
       "      <td>158284</td>\n",
       "      <td>NaN</td>\n",
       "      <td>A company that installs solar panels in homes</td>\n",
       "      <td>Deborah Meaden and Theo Paphitis</td>\n",
       "      <td>active</td>\n",
       "      <td>9</td>\n",
       "      <td>NaN</td>\n",
       "    </tr>\n",
       "    <tr>\n",
       "      <th>2</th>\n",
       "      <td>2</td>\n",
       "      <td>7 August 2011</td>\n",
       "      <td>Christian Hartmann, Martin McLaughlin, Tom Cal...</td>\n",
       "      <td>Love Da Pop</td>\n",
       "      <td>92332</td>\n",
       "      <td>NaN</td>\n",
       "      <td>A business turning the old popcorn treat into ...</td>\n",
       "      <td>Peter Jones</td>\n",
       "      <td>active</td>\n",
       "      <td>9</td>\n",
       "      <td>NaN</td>\n",
       "    </tr>\n",
       "    <tr>\n",
       "      <th>3</th>\n",
       "      <td>2</td>\n",
       "      <td>7 August 2011</td>\n",
       "      <td>Liz and Alan Colleran</td>\n",
       "      <td>Raskelf Memory Foam (Duvalay)</td>\n",
       "      <td>105523</td>\n",
       "      <td>NaN</td>\n",
       "      <td>A zip-up memory foam mattress and duvet combo</td>\n",
       "      <td>Hilary Devey</td>\n",
       "      <td>active</td>\n",
       "      <td>9</td>\n",
       "      <td>NaN</td>\n",
       "    </tr>\n",
       "    <tr>\n",
       "      <th>4</th>\n",
       "      <td>3</td>\n",
       "      <td>14 August 2011</td>\n",
       "      <td>Peter and Michelle Hart</td>\n",
       "      <td>Fun Fancy Dress</td>\n",
       "      <td>131903</td>\n",
       "      <td>NaN</td>\n",
       "      <td>Fancy-dress shop business and franchise</td>\n",
       "      <td>Duncan Bannatyne</td>\n",
       "      <td>\\tdeal fell through after filming</td>\n",
       "      <td>9</td>\n",
       "      <td>NaN</td>\n",
       "    </tr>\n",
       "  </tbody>\n",
       "</table>\n",
       "</div>"
      ],
      "text/plain": [
       "  episode     first_aired                                    entrepreneur(s)  \\\n",
       "0       1    31 July 2011                                   Georgette Hewitt   \n",
       "1       1    31 July 2011                                      Chris Hopkins   \n",
       "2       2   7 August 2011  Christian Hartmann, Martin McLaughlin, Tom Cal...   \n",
       "3       2   7 August 2011                              Liz and Alan Colleran   \n",
       "4       3  14 August 2011                            Peter and Michelle Hart   \n",
       "\n",
       "         company_or_product_name  money_requested_converted_$  \\\n",
       "0               The Present Club                        79142   \n",
       "1              Ploughcroft Solar                       158284   \n",
       "2                    Love Da Pop                        92332   \n",
       "3  Raskelf Memory Foam (Duvalay)                       105523   \n",
       "4                Fun Fancy Dress                       131903   \n",
       "\n",
       "   stake_in_%_sold                             description_of_product  \\\n",
       "0              NaN            A website for buying gifts for children   \n",
       "1              NaN      A company that installs solar panels in homes   \n",
       "2              NaN  A business turning the old popcorn treat into ...   \n",
       "3              NaN      A zip-up memory foam mattress and duvet combo   \n",
       "4              NaN            Fancy-dress shop business and franchise   \n",
       "\n",
       "                investing_dragon(s)                               fate  \\\n",
       "0     Peter Jones and Theo Paphitis                             active   \n",
       "1  Deborah Meaden and Theo Paphitis                             active   \n",
       "2                       Peter Jones                             active   \n",
       "3                      Hilary Devey                             active   \n",
       "4                  Duncan Bannatyne  \\tdeal fell through after filming   \n",
       "\n",
       "   season  valuation  \n",
       "0       9        NaN  \n",
       "1       9        NaN  \n",
       "2       9        NaN  \n",
       "3       9        NaN  \n",
       "4       9        NaN  "
      ]
     },
     "execution_count": 5,
     "metadata": {},
     "output_type": "execute_result"
    }
   ],
   "source": [
    "dragons.head()"
   ]
  },
  {
   "cell_type": "markdown",
   "metadata": {},
   "source": [
    "### Shark_vs_dragon -- Investments"
   ]
  },
  {
   "cell_type": "markdown",
   "metadata": {},
   "source": [
    "The same amount of episodes in Shark Tank US and Dragons' Den are compared.\n",
    "1) Shark Tank US Season 1 to 6\n",
    "2) Dragons' Den Season 9 to 19\n"
   ]
  },
  {
   "cell_type": "markdown",
   "metadata": {},
   "source": [
    "#### 1) Shark Tanks -- Total Investments"
   ]
  },
  {
   "cell_type": "code",
   "execution_count": 109,
   "metadata": {},
   "outputs": [
    {
     "data": {
      "text/plain": [
       "202"
      ]
     },
     "execution_count": 109,
     "metadata": {},
     "output_type": "execute_result"
    }
   ],
   "source": [
    "condition = shark_cleaned.apply(lambda x: True if x['deal_status'] == True else False, axis=1)\n",
    "s_investments = len(condition[condition == True].index)\n",
    "s_investments"
   ]
  },
  {
   "cell_type": "markdown",
   "metadata": {},
   "source": [
    "#### 2) Dragons' Den -- Total Investments"
   ]
  },
  {
   "cell_type": "code",
   "execution_count": 110,
   "metadata": {},
   "outputs": [
    {
     "data": {
      "text/plain": [
       "119"
      ]
     },
     "execution_count": 110,
     "metadata": {},
     "output_type": "execute_result"
    }
   ],
   "source": [
    "d_investments = dragons['valuation'].count()\n",
    "d_investments"
   ]
  },
  {
   "cell_type": "markdown",
   "metadata": {},
   "source": [
    "\n",
    "### Top 10 valuations "
   ]
  },
  {
   "cell_type": "markdown",
   "metadata": {},
   "source": [
    "The top 10 companies and their evaluations are listed."
   ]
  },
  {
   "cell_type": "markdown",
   "metadata": {},
   "source": [
    "#### 1) Shark Tanks"
   ]
  },
  {
   "cell_type": "code",
   "execution_count": 119,
   "metadata": {},
   "outputs": [],
   "source": [
    "top_valuations = (shark_cleaned.loc[shark_cleaned['deal_status'] == True, \n",
    "                                       ['company_or_product_name','valuation']]\n",
    "                                        .sort_values(['valuation'], ascending = [False]))"
   ]
  },
  {
   "cell_type": "code",
   "execution_count": 120,
   "metadata": {},
   "outputs": [
    {
     "data": {
      "text/html": [
       "<div>\n",
       "<style scoped>\n",
       "    .dataframe tbody tr th:only-of-type {\n",
       "        vertical-align: middle;\n",
       "    }\n",
       "\n",
       "    .dataframe tbody tr th {\n",
       "        vertical-align: top;\n",
       "    }\n",
       "\n",
       "    .dataframe thead th {\n",
       "        text-align: right;\n",
       "    }\n",
       "</style>\n",
       "<table border=\"1\" class=\"dataframe\">\n",
       "  <thead>\n",
       "    <tr style=\"text-align: right;\">\n",
       "      <th></th>\n",
       "      <th>company_or_product_name</th>\n",
       "      <th>valuation</th>\n",
       "    </tr>\n",
       "  </thead>\n",
       "  <tbody>\n",
       "    <tr>\n",
       "      <th>0</th>\n",
       "      <td>SynDaver Labs</td>\n",
       "      <td>30000000</td>\n",
       "    </tr>\n",
       "    <tr>\n",
       "      <th>1</th>\n",
       "      <td>Zipz</td>\n",
       "      <td>25000000</td>\n",
       "    </tr>\n",
       "    <tr>\n",
       "      <th>2</th>\n",
       "      <td>Ten Thirty One Productions</td>\n",
       "      <td>20000000</td>\n",
       "    </tr>\n",
       "    <tr>\n",
       "      <th>3</th>\n",
       "      <td>EmazingLights</td>\n",
       "      <td>13000000</td>\n",
       "    </tr>\n",
       "    <tr>\n",
       "      <th>4</th>\n",
       "      <td>Plated</td>\n",
       "      <td>12500000</td>\n",
       "    </tr>\n",
       "    <tr>\n",
       "      <th>5</th>\n",
       "      <td>The Red Dress Boutique</td>\n",
       "      <td>12000000</td>\n",
       "    </tr>\n",
       "    <tr>\n",
       "      <th>6</th>\n",
       "      <td>Roominate</td>\n",
       "      <td>10000000</td>\n",
       "    </tr>\n",
       "    <tr>\n",
       "      <th>7</th>\n",
       "      <td>Zero Pollution Motors</td>\n",
       "      <td>10000000</td>\n",
       "    </tr>\n",
       "    <tr>\n",
       "      <th>8</th>\n",
       "      <td>Melni Connectors</td>\n",
       "      <td>10000000</td>\n",
       "    </tr>\n",
       "    <tr>\n",
       "      <th>9</th>\n",
       "      <td>RuffleButts and RuggedButts</td>\n",
       "      <td>8571429</td>\n",
       "    </tr>\n",
       "  </tbody>\n",
       "</table>\n",
       "</div>"
      ],
      "text/plain": [
       "       company_or_product_name  valuation\n",
       "0                SynDaver Labs   30000000\n",
       "1                         Zipz   25000000\n",
       "2   Ten Thirty One Productions   20000000\n",
       "3                EmazingLights   13000000\n",
       "4                       Plated   12500000\n",
       "5       The Red Dress Boutique   12000000\n",
       "6                    Roominate   10000000\n",
       "7        Zero Pollution Motors   10000000\n",
       "8             Melni Connectors   10000000\n",
       "9  RuffleButts and RuggedButts    8571429"
      ]
     },
     "execution_count": 120,
     "metadata": {},
     "output_type": "execute_result"
    }
   ],
   "source": [
    "top_valuations.reset_index(drop=True).head(10)"
   ]
  },
  {
   "cell_type": "markdown",
   "metadata": {},
   "source": [
    "#### 2) Dragons' Den\n"
   ]
  },
  {
   "cell_type": "code",
   "execution_count": 121,
   "metadata": {},
   "outputs": [],
   "source": [
    "top_valuations = (dragons[['company_or_product_name', 'valuation']]\n",
    "                 .sort_values(['valuation'], ascending = [False]))\n"
   ]
  },
  {
   "cell_type": "code",
   "execution_count": 122,
   "metadata": {},
   "outputs": [
    {
     "data": {
      "text/html": [
       "<div>\n",
       "<style scoped>\n",
       "    .dataframe tbody tr th:only-of-type {\n",
       "        vertical-align: middle;\n",
       "    }\n",
       "\n",
       "    .dataframe tbody tr th {\n",
       "        vertical-align: top;\n",
       "    }\n",
       "\n",
       "    .dataframe thead th {\n",
       "        text-align: right;\n",
       "    }\n",
       "</style>\n",
       "<table border=\"1\" class=\"dataframe\">\n",
       "  <thead>\n",
       "    <tr style=\"text-align: right;\">\n",
       "      <th></th>\n",
       "      <th>company_or_product_name</th>\n",
       "      <th>valuation</th>\n",
       "    </tr>\n",
       "  </thead>\n",
       "  <tbody>\n",
       "    <tr>\n",
       "      <th>0</th>\n",
       "      <td>Lost my Name</td>\n",
       "      <td>2638060</td>\n",
       "    </tr>\n",
       "    <tr>\n",
       "      <th>1</th>\n",
       "      <td>StoryTerrace</td>\n",
       "      <td>2374260</td>\n",
       "    </tr>\n",
       "    <tr>\n",
       "      <th>2</th>\n",
       "      <td>Drynks Unlimited</td>\n",
       "      <td>2198387</td>\n",
       "    </tr>\n",
       "    <tr>\n",
       "      <th>3</th>\n",
       "      <td>Love Me Beauty</td>\n",
       "      <td>1319038</td>\n",
       "    </tr>\n",
       "    <tr>\n",
       "      <th>4</th>\n",
       "      <td>TOAD.ai</td>\n",
       "      <td>1319030</td>\n",
       "    </tr>\n",
       "    <tr>\n",
       "      <th>5</th>\n",
       "      <td>Zapper</td>\n",
       "      <td>1099193</td>\n",
       "    </tr>\n",
       "    <tr>\n",
       "      <th>6</th>\n",
       "      <td>The Raw Chocolate Company</td>\n",
       "      <td>949700</td>\n",
       "    </tr>\n",
       "    <tr>\n",
       "      <th>7</th>\n",
       "      <td>Nae Danger</td>\n",
       "      <td>879353</td>\n",
       "    </tr>\n",
       "    <tr>\n",
       "      <th>8</th>\n",
       "      <td>Mainstage Travel</td>\n",
       "      <td>879353</td>\n",
       "    </tr>\n",
       "    <tr>\n",
       "      <th>9</th>\n",
       "      <td>Karuma Innovations</td>\n",
       "      <td>791420</td>\n",
       "    </tr>\n",
       "  </tbody>\n",
       "</table>\n",
       "</div>"
      ],
      "text/plain": [
       "     company_or_product_name  valuation\n",
       "0               Lost my Name    2638060\n",
       "1               StoryTerrace    2374260\n",
       "2           Drynks Unlimited    2198387\n",
       "3             Love Me Beauty    1319038\n",
       "4                    TOAD.ai    1319030\n",
       "5                     Zapper    1099193\n",
       "6  The Raw Chocolate Company     949700\n",
       "7                 Nae Danger     879353\n",
       "8           Mainstage Travel     879353\n",
       "9         Karuma Innovations     791420"
      ]
     },
     "execution_count": 122,
     "metadata": {},
     "output_type": "execute_result"
    }
   ],
   "source": [
    "top_valuations.reset_index(drop=True).head(10)"
   ]
  },
  {
   "cell_type": "markdown",
   "metadata": {},
   "source": [
    "### Valuations and Money Requested [USD]"
   ]
  },
  {
   "cell_type": "markdown",
   "metadata": {},
   "source": [
    "#### 1) Shark Tanks "
   ]
  },
  {
   "cell_type": "markdown",
   "metadata": {},
   "source": [
    "On average a participant company was valued at USD 2,000,000."
   ]
  },
  {
   "cell_type": "code",
   "execution_count": 98,
   "metadata": {},
   "outputs": [
    {
     "data": {
      "text/plain": [
       "count         202.00\n",
       "mean      2014212.22\n",
       "std       3660757.93\n",
       "min         49020.00\n",
       "25%        500000.00\n",
       "50%        900000.00\n",
       "75%       2000000.00\n",
       "max      30000000.00\n",
       "Name: valuation, dtype: float64"
      ]
     },
     "execution_count": 98,
     "metadata": {},
     "output_type": "execute_result"
    }
   ],
   "source": [
    "round(shark_cleaned['valuation'].describe(),2)"
   ]
  },
  {
   "cell_type": "markdown",
   "metadata": {},
   "source": [
    "On average USD 230,000 was requested."
   ]
  },
  {
   "cell_type": "code",
   "execution_count": 104,
   "metadata": {},
   "outputs": [
    {
     "data": {
      "text/plain": [
       "count        202.00\n",
       "mean      234351.49\n",
       "std       468974.62\n",
       "min        20000.00\n",
       "25%        75000.00\n",
       "50%       117500.00\n",
       "75%       250000.00\n",
       "max      5000000.00\n",
       "Name: money_requested, dtype: float64"
      ]
     },
     "execution_count": 104,
     "metadata": {},
     "output_type": "execute_result"
    }
   ],
   "source": [
    "round(shark_cleaned['money_requested'].describe(),2)"
   ]
  },
  {
   "cell_type": "markdown",
   "metadata": {},
   "source": [
    "#### 2) Dragons' Den"
   ]
  },
  {
   "cell_type": "markdown",
   "metadata": {},
   "source": [
    "On average a participant company was valued at USD 420,000."
   ]
  },
  {
   "cell_type": "code",
   "execution_count": 100,
   "metadata": {},
   "outputs": [
    {
     "data": {
      "text/plain": [
       "count        119.00\n",
       "mean      420131.11\n",
       "std       395840.12\n",
       "min        87936.00\n",
       "25%       219840.00\n",
       "50%       293118.00\n",
       "75%       468254.00\n",
       "max      2638060.00\n",
       "Name: valuation, dtype: float64"
      ]
     },
     "execution_count": 100,
     "metadata": {},
     "output_type": "execute_result"
    }
   ],
   "source": [
    "round(dragons['valuation'].describe(),2)"
   ]
  },
  {
   "cell_type": "markdown",
   "metadata": {},
   "source": [
    "On average USD 92,000 was requested."
   ]
  },
  {
   "cell_type": "code",
   "execution_count": 103,
   "metadata": {},
   "outputs": [
    {
     "data": {
      "text/plain": [
       "count       138.00\n",
       "mean      91935.63\n",
       "std       38987.32\n",
       "min       32976.00\n",
       "25%       65952.00\n",
       "50%       79142.00\n",
       "75%      105523.00\n",
       "max      329758.00\n",
       "Name: money_requested_converted_$, dtype: float64"
      ]
     },
     "execution_count": 103,
     "metadata": {},
     "output_type": "execute_result"
    }
   ],
   "source": [
    "round(dragons['money_requested_converted_$'].describe(),2)"
   ]
  }
 ],
 "metadata": {
  "kernelspec": {
   "display_name": "Python 3",
   "language": "python",
   "name": "python3"
  },
  "language_info": {
   "codemirror_mode": {
    "name": "ipython",
    "version": 3
   },
   "file_extension": ".py",
   "mimetype": "text/x-python",
   "name": "python",
   "nbconvert_exporter": "python",
   "pygments_lexer": "ipython3",
   "version": "3.8.3"
  }
 },
 "nbformat": 4,
 "nbformat_minor": 4
}
